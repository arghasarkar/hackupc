{
 "cells": [
  {
   "cell_type": "code",
   "execution_count": 21,
   "metadata": {
    "collapsed": false
   },
   "outputs": [
    {
     "name": "stdout",
     "output_type": "stream",
     "text": [
      "Accidents0515.csv\n",
      "Casualties0515.csv\n",
      "Vehicles0515.csv\n",
      "contextCSVs\n",
      "tidydata.sh\n",
      "\n",
      "Accident_Severity.csv\n",
      "Age_Band.csv\n",
      "Casualty_Class.csv\n",
      "Casualty_Severity.csv\n",
      "Casualty_Type.csv\n",
      "Day_of_Week.csv\n",
      "Journey_Purpose.csv\n",
      "Junction_Control.csv\n",
      "Junction_Detail.csv\n",
      "Junction_Location.csv\n",
      "Light_Conditions.csv\n",
      "Local_Authority_District.csv\n",
      "Local_Authority_Highway.csv\n",
      "Ped_Cross_Human.csv\n",
      "Ped_Cross_Physical.csv\n",
      "Ped_Location.csv\n",
      "Ped_Movement.csv\n",
      "Point_of_Impact.csv\n",
      "Police_Force.csv\n",
      "Police_Officer_Attend.csv\n",
      "Road-Accident-Safety-Data-Guide.csv\n",
      "Road_Class.csv\n",
      "Road_Type.csv\n",
      "Sex_of_Driver.csv\n",
      "Urban_Rural.csv\n",
      "Vehicle_Location.csv\n",
      "Vehicle_Manoeuvre.csv\n",
      "Vehicle_Type.csv\n",
      "\n"
     ]
    }
   ],
   "source": [
    "#### loading main packages ####\n",
    "import numpy as np # linear algebra\n",
    "import pandas as pd # data processing, CSV file I/O (e.g. pd.read_csv)\n",
    "import matplotlib.pyplot as plt\n",
    "from subprocess import check_output\n",
    "print check_output([\"ls\", \"data\"]).decode(\"utf8\")\n",
    "print check_output([\"ls\", \"data/contextCSVs\"]).decode(\"utf8\")"
   ]
  },
  {
   "cell_type": "code",
   "execution_count": 33,
   "metadata": {
    "collapsed": false
   },
   "outputs": [],
   "source": [
    "############### converting time to seconds ###############\n",
    "# def hh_mm2seconds(hh_mm):\n",
    "#     return reduce(lambda acc, x: acc*60 + x, map(int, hh_mm.split(':')))\n",
    "############## loading data ##############\n",
    "# accident_data=pd.read_csv(\"data/Accidents0515.csv\", converters={'Time': hh_mm2seconds})\n",
    "accident_data=pd.read_csv(\"data/Accidents0515.csv\")\n",
    "day_week_data=pd.read_csv(\"data/contextCSVs/Day_of_Week.csv\")\n",
    "\n",
    "# casualties_data=pd.read_csv(\"data/Casualties0515.csv\")\n",
    "# vehicles_data=pd.read_csv(\"data/Vehicles0515.csv\")\n",
    "# vehicles_data=pd.read_csv(\"data/contextCSVs/Accident_Severity.csv\")\n",
    "# vehicles_data=pd.read_csv(\"data/contextCSVs/Age_Band.csv\")\n",
    "# vehicles_data=pd.read_csv(\"data/contextCSVs/Casualty_Class.csv\")\n",
    "# vehicles_data=pd.read_csv(\"data/contextCSVs/Casualty_Severity.csv\")\n",
    "# vehicles_data=pd.read_csv(\"data/contextCSVs/Casualty_Type.csv\")\n",
    "\n",
    "# vehicles_data=pd.read_csv(\"data/contextCSVs/Journey_Purpose.csv\")\n",
    "# vehicles_data=pd.read_csv(\"data/contextCSVs/Junction_Control.csv\")\n",
    "# vehicles_data=pd.read_csv(\"data/contextCSVs/Junction_Detail.csv\")\n",
    "# vehicles_data=pd.read_csv(\"data/contextCSVs/Junction_Location.csv\")\n",
    "# vehicles_data=pd.read_csv(\"data/contextCSVs/Light_Conditions.csv\")\n",
    "# vehicles_data=pd.read_csv(\"data/contextCSVs/Local_Authority_District.csv\")\n",
    "# vehicles_data=pd.read_csv(\"data/contextCSVs/Local_Authority_Highway.csv\")\n",
    "# vehicles_data=pd.read_csv(\"data/contextCSVs/Ped_Cross_Human.csv\")\n",
    "# vehicles_data=pd.read_csv(\"data/contextCSVs/Ped_Cross_Physical.csv\")\n",
    "# vehicles_data=pd.read_csv(\"data/contextCSVs/Ped_Location.csv\")\n",
    "# vehicles_data=pd.read_csv(\"data/contextCSVs/Ped_Movement.csv\")\n",
    "# vehicles_data=pd.read_csv(\"data/contextCSVs/Point_of_Impact.csv\")\n",
    "# vehicles_data=pd.read_csv(\"data/contextCSVs/Police_Force.csv\")\n",
    "# vehicles_data=pd.read_csv(\"data/contextCSVs/Police_Officer_Attend.csv\")\n",
    "# vehicles_data=pd.read_csv(\"data/contextCSVs/Road-Accident-Safety-Data-Guide.csv\")\n",
    "# vehicles_data=pd.read_csv(\"data/contextCSVs/Road_Class.csv\")\n",
    "# vehicles_data=pd.read_csv(\"data/contextCSVs/Road_Type.csv\")\n",
    "# vehicles_data=pd.read_csv(\"data/contextCSVs/Sex_of_Driver.csv\")\n",
    "# vehicles_data=pd.read_csv(\"data/contextCSVs/Urban_Rural.csv\")\n",
    "# vehicles_data=pd.read_csv(\"data/contextCSVs/Vehicle_Location.csv\")\n",
    "# vehicles_data=pd.read_csv(\"data/contextCSVs/Vehicle_Manoeuvre.csv\")\n",
    "# vehicles_data=pd.read_csv(\"data/contextCSVs/Vehicle_Type.csv\")"
   ]
  },
  {
   "cell_type": "code",
   "execution_count": 14,
   "metadata": {
    "collapsed": false
   },
   "outputs": [
    {
     "name": "stdout",
     "output_type": "stream",
     "text": [
      "(1780653, 32)\n",
      "['Accident_Index', 'Location_Easting_OSGR', 'Location_Northing_OSGR', 'Longitude', 'Latitude', 'Police_Force', 'Accident_Severity', 'Number_of_Vehicles', 'Number_of_Casualties', 'Date', 'Day_of_Week', 'Time', 'Local_Authority_(District)', 'Local_Authority_(Highway)', '1st_Road_Class', '1st_Road_Number', 'Road_Type', 'Speed_limit', 'Junction_Detail', 'Junction_Control', '2nd_Road_Class', '2nd_Road_Number', 'Pedestrian_Crossing-Human_Control', 'Pedestrian_Crossing-Physical_Facilities', 'Light_Conditions', 'Weather_Conditions', 'Road_Surface_Conditions', 'Special_Conditions_at_Site', 'Carriageway_Hazards', 'Urban_or_Rural_Area', 'Did_Police_Officer_Attend_Scene_of_Accident', 'LSOA_of_Accident_Location']\n",
      "(7, 2)\n",
      "   code      label\n",
      "0     1     Sunday\n",
      "1     2     Monday\n",
      "2     3    Tuesday\n",
      "3     4  Wednesday\n",
      "4     5   Thursday\n",
      "5     6     Friday\n",
      "6     7   Saturday\n"
     ]
    }
   ],
   "source": [
    "print accident_data.shape\n",
    "print list(accident_data)\n",
    "print day_week_data.shape\n",
    "print day_week_data"
   ]
  },
  {
   "cell_type": "code",
   "execution_count": 127,
   "metadata": {
    "collapsed": false
   },
   "outputs": [
    {
     "name": "stdout",
     "output_type": "stream",
     "text": [
      "(1010, 4)\n",
      "(1010, 4)\n",
      "(1010, 10)\n"
     ]
    }
   ],
   "source": [
    "import datetime\n",
    "import time\n",
    "# column_list = ['Weather_Conditions','Day_of_Week','Time','Longitude', 'Latitude']\n",
    "column_list = ['Day_of_Week','Time','Longitude', 'Latitude']\n",
    "# data_length= len(accident_data)\n",
    "\n",
    "############### selecting a subset of 10000 samples ###############\n",
    "selected_samples = accident_data.sample(1010)\n",
    "\n",
    "############### selecting only the column_list ###############\n",
    "selected_samples = selected_samples[column_list]\n",
    "print selected_samples.shape\n",
    "\n",
    "############### Fixing NaN values ###############\n",
    "selected_samples_no_nan = selected_samples.dropna()\n",
    "print selected_samples_no_nan.shape\n",
    "\n",
    "############### converting time to minutez ###############\n",
    "def time_convert(x):\n",
    "    times = x.split(':')\n",
    "    return 60*int(times[0])+int(times[1])\n",
    "\n",
    "selected_samples_no_nan.Time = selected_samples_no_nan.Time.apply(time_convert)\n",
    "# print selected_samples_no_nan\n",
    "\n",
    "############### dummifying the Weather_Conditions and Day_of_Week ###############\n",
    "# selected_samples_dummified = pd.get_dummies(selected_samples_no_nan, columns=['Weather_Conditions','Day_of_Week'])\n",
    "selected_samples_dummified = pd.get_dummies(selected_samples_no_nan, columns=['Day_of_Week'])\n",
    "print selected_samples_dummified.shape\n",
    "# print selected_samples_dummified\n",
    "\n",
    "############### converting latlong to categorical Target ###############\n",
    "\n"
   ]
  },
  {
   "cell_type": "code",
   "execution_count": null,
   "metadata": {
    "collapsed": false
   },
   "outputs": [],
   "source": [
    "import matplotlib.pyplot as plt\n",
    "from sklearn.ensemble import RandomForestRegressor\n",
    "# from sklearn.model_selection import train_test_split\n",
    "# from sklearn.multioutput import MultiOutputRegressor\n",
    "\n",
    "############### Splitting predictors and targets ###############\n",
    "predictors_list = list(selected_samples_dummified)\n",
    "predictors_list.remove( 'Latitude')\n",
    "predictors_list.remove('Longitude')\n",
    "print predictors_list\n",
    "target_list = ['Longitude', 'Latitude']\n",
    "\n",
    "X = selected_samples_dummified[predictors_list]\n",
    "y = selected_samples_dummified[target_list]\n",
    "\n",
    "print X.shape\n",
    "print y.shape\n",
    "############### Splitting data in training and testing ###############\n",
    "splitting_number = 800\n",
    "X_train = X.head(splitting_number)\n",
    "X_test = X.tail(len(X) - splitting_number)\n",
    "y_train = y.head(splitting_number)\n",
    "y_test = y.tail(len(y) - splitting_number)\n",
    "print X_train.shape\n",
    "print X_test.shape\n",
    "print y_train.shape\n",
    "print y_test.shape\n",
    "\n",
    "############### training a random forest regressor ###############\n",
    "max_depth = 30\n",
    "\n",
    "regr_rf = RandomForestRegressor(n_estimators=3,max_depth=max_depth, random_state=2)\n",
    "regr_rf.fit(X_train, y_train)\n",
    "\n",
    "############### testing random forest regressor model ###############\n",
    "y_rf = regr_rf.predict(X_test)\n",
    "\n",
    "# print y_test\n",
    "############### showing results ###############\n",
    "plt.figure()\n",
    "s = 50\n",
    "a = 0.4\n",
    "plt.scatter(y_test['Longitude'], y_test['Latitude'],\n",
    "            c=\"navy\", s=s, marker=\"s\", alpha=a, label=\"Data\")\n",
    "# plt.scatter(y_multirf[:, 0], y_multirf[:, 1],\n",
    "#             c=\"cornflowerblue\", s=s, alpha=a,\n",
    "#             label=\"Multi RF score=%.2f\" % regr_multirf.score(X_test, y_test))\n",
    "plt.scatter(y_rf[:, 0], y_rf[:, 1],\n",
    "            c=\"c\", s=s, marker=\"^\", alpha=a,\n",
    "            label=\"RF score=%.2f\" % regr_rf.score(X_test, y_test))\n",
    "plt.xlim([-6, 6])\n",
    "plt.ylim([-6, 6])\n",
    "plt.xlabel(\"target 1\")\n",
    "plt.ylabel(\"target 2\")\n",
    "plt.title(\"Comparing random forests and the multi-output meta estimator\")\n",
    "plt.legend()\n",
    "plt.show()"
   ]
  },
  {
   "cell_type": "code",
   "execution_count": null,
   "metadata": {
    "collapsed": true
   },
   "outputs": [],
   "source": []
  }
 ],
 "metadata": {
  "anaconda-cloud": {},
  "kernelspec": {
   "display_name": "Python [Root]",
   "language": "python",
   "name": "Python [Root]"
  },
  "language_info": {
   "codemirror_mode": {
    "name": "ipython",
    "version": 2
   },
   "file_extension": ".py",
   "mimetype": "text/x-python",
   "name": "python",
   "nbconvert_exporter": "python",
   "pygments_lexer": "ipython2",
   "version": "2.7.12"
  }
 },
 "nbformat": 4,
 "nbformat_minor": 0
}
